{
 "cells": [
  {
   "cell_type": "markdown",
   "metadata": {},
   "source": [
    "## 14.4 트리 기반 모델"
   ]
  },
  {
   "cell_type": "markdown",
   "metadata": {},
   "source": [
    "입력 공간을 입방체 영역으로 분할하고 모서리가 축과 정렬 된 다음 각 영역에 간단한 모델 (예 : 상수)을 할당하여 작동하는 간단하지만 널리 사용되는 다양한 모델이 있습니다. <br>\n",
    "간단하지만 널리 사용되는 모델의 종류로 입력 공간을 각 변이 축과 평행한 입방형들로 나누고 각 구역별로 단순한 모델(예를 들면 상수 모델)을 사용하는 것이 있다. <br>\n",
    "There are various simple, but widely used, models that work by partitioning the input space into cuboid regions, whose edges are aligned with the axes, and then assigning a simple model (for example, a contant) to each region."
   ]
  },
  {
   "cell_type": "markdown",
   "metadata": {},
   "source": [
    "입력 공간의 특정 지점에서 하나의 모델 만 예측을 수행하는 모델 조합 방법으로 볼 수 있습니다. <br>\n",
    "이러한 모델은 모델 조합 방법의 하나로 볼 수 있다. 이 경우 입력 공간의 각 포인트들에 대해 예측을 하는 데 있어서 오직 하나의 모델만이 책임을 지게 된다. <br>\n",
    "They can be viewed as a model combination method in which only one model is responsible for making predictions at any given point in input space."
   ]
  },
  {
   "cell_type": "markdown",
   "metadata": {},
   "source": [
    "새로운 입력 x가 주어지면 특정 모델을 선택하는 프로세스는 이진 트리 (각 노드에서 두 개의 분기로 분할되는 것)의 순회에 해당하는 순차적 의사 결정 프로세스로 설명 할 수 있습니다. <br>\n",
    "새로운 입력값 x가 주어졌을 경우에 특정 모델을 선택하는 과정은 연속적으로 결정을 내리는 과정으로 볼 수 있는데, 이는 이진트리(각 노드에서 두 개의 가지로 쪼개지는 트리)를 순회하는 것에 해당한다. <br>\n",
    "The process of selecting a specific model, given a new input x, can be described by a sequential decision making process corresponding to the traversal of a binary tree (one that splits into two branches at each node)."
   ]
  },
  {
   "cell_type": "markdown",
   "metadata": {},
   "source": [
    "여기서는 분류 및 회귀 트리 또는 CART (Breiman et al., 1984)라는 특정 트리 기반 프레임 워크에 초점을 맞춥니다. 하지만 ID3 및 C4.5와 같은 이름을 사용하는 다른 변형도 많이 있습니다 (Quinlan, 1986; Quinlan, 1993).<br>\n",
    "여기서는 분류와 회귀트리(CART)(Breiman et al., 1984)라 불리는 트리에 초점을 맞출 것이다.여기서는 다루지 않을 것이지만, ID3와 C4.5()와 같은 변형 모델도 존재한다. <br>\n",
    "Here we focus on a particular tree-based framework called classification and regression trees, or CART (Brieman et al., 1984), although there are many other variants going by such names as ID3 and C4.5."
   ]
  }
 ],
 "metadata": {
  "kernelspec": {
   "display_name": "tf2",
   "language": "python",
   "name": "tf2"
  },
  "language_info": {
   "codemirror_mode": {
    "name": "ipython",
    "version": 3
   },
   "file_extension": ".py",
   "mimetype": "text/x-python",
   "name": "python",
   "nbconvert_exporter": "python",
   "pygments_lexer": "ipython3",
   "version": "3.7.3"
  },
  "toc": {
   "base_numbering": 1,
   "nav_menu": {},
   "number_sections": false,
   "sideBar": true,
   "skip_h1_title": false,
   "title_cell": "Table of Contents",
   "title_sidebar": "Contents",
   "toc_cell": false,
   "toc_position": {},
   "toc_section_display": true,
   "toc_window_display": false
  },
  "varInspector": {
   "cols": {
    "lenName": 16,
    "lenType": 16,
    "lenVar": 40
   },
   "kernels_config": {
    "python": {
     "delete_cmd_postfix": "",
     "delete_cmd_prefix": "del ",
     "library": "var_list.py",
     "varRefreshCmd": "print(var_dic_list())"
    },
    "r": {
     "delete_cmd_postfix": ") ",
     "delete_cmd_prefix": "rm(",
     "library": "var_list.r",
     "varRefreshCmd": "cat(var_dic_list()) "
    }
   },
   "types_to_exclude": [
    "module",
    "function",
    "builtin_function_or_method",
    "instance",
    "_Feature"
   ],
   "window_display": false
  }
 },
 "nbformat": 4,
 "nbformat_minor": 4
}
