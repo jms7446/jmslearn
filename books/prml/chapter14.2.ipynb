{
 "cells": [
  {
   "cell_type": "markdown",
   "metadata": {},
   "source": [
    "$$y_m(x) = h(x) + \\epsilon_m(x)$$"
   ]
  },
  {
   "cell_type": "markdown",
   "metadata": {},
   "source": [
    "이 경우 제곱합 오류는 다음의 형태를 가진다. <br>\n",
    "The average sum of squares error then takes the form."
   ]
  },
  {
   "cell_type": "markdown",
   "metadata": {
    "ExecuteTime": {
     "end_time": "2020-09-22T08:02:50.274739Z",
     "start_time": "2020-09-22T08:02:50.267615Z"
    }
   },
   "source": [
    "$$\\mathbb{E}_\\mathbf{x}[\\{y_m(\\mathbf{x}) - h(\\mathbf{x})\\}^2] \n",
    "    = \\mathbb{E}_\\mathbf{x}[\\epsilon_m(\\mathbf{x})^2]$$"
   ]
  },
  {
   "cell_type": "markdown",
   "metadata": {},
   "source": [
    "여기서 $\\mathbb{E}_\\mathbf{x}[\\cdot]$는 입력 벡터 $\\mathbf{x}$의 분포에 대한 빈도적 기댓값을 일컫는 것이다. 따라서 개별적으로 작동하는 모델의 평균 오류는 다음과 같다. <br>\n",
    "Where $\\mathbb{E}_\\mathbf{x}[\\cdot]$는 입력 벡터 $\\mathbf{x}$ denotes a frequentist expectation with respect to the distribution of the input vector x. The average error made by the models acting individually is therefore"
   ]
  },
  {
   "cell_type": "markdown",
   "metadata": {},
   "source": [
    "$$ E_{AV} = \\frac{1}{M}\\sum_{m=1}^M{\\mathbb{E}_\\mathbf{x}[\\epsilon(\\mathbf{x})^2]} $$"
   ]
  },
  {
   "cell_type": "markdown",
   "metadata": {},
   "source": [
    "이와 비슷하게 식 14.7의 위원회 알고리즘의 기대 오류는 다음처럼 주어진다. <br>\n",
    "Similarly, the expected error from the committee (14.7) is given by"
   ]
  },
  {
   "cell_type": "markdown",
   "metadata": {
    "ExecuteTime": {
     "end_time": "2020-09-22T08:45:49.819781Z",
     "start_time": "2020-09-22T08:45:49.805481Z"
    }
   },
   "source": [
    "$$ E_{COM} = \\mathbb{E}_\\mathbf{x} \\big[ \\big\\{\n",
    "            \\frac{1}{M}\\sum_{m=1}^{M}y_m(\\mathbf{x}) - h(\\mathbf{x})\n",
    "        \\big\\}^2 \\big] \\\\\n",
    "    = \\mathbb{E}_\\mathbf{x} \\big[ \\big\\{ \n",
    "            \\frac{1}{M} \\sum_{m=1}^{M} \\epsilon_m(\\mathbf{x})\n",
    "        \\big\\}^2 \\big] $$"
   ]
  },
  {
   "cell_type": "markdown",
   "metadata": {},
   "source": [
    "각각의 오류들이 0 평균을 가지며, 서로가 무상관이라고 가정해 보자.  <br>\n",
    "If we assume that the errors have zero mean and are uncorrelated, so that"
   ]
  },
  {
   "cell_type": "markdown",
   "metadata": {},
   "source": [
    "$$ \\mathbb{E}_{\\mathbf{x}}[\\epsilon_m(\\mathbf{x})] = 0 \\\\\n",
    "   \\mathbb{E}_{\\mathbf{x}}[\\epsilon_m(\\mathbf{x})\\epsilon_l(\\mathbf{x})] = 0, m \\neq l $$"
   ]
  },
  {
   "cell_type": "markdown",
   "metadata": {
    "ExecuteTime": {
     "end_time": "2020-09-22T09:17:30.384269Z",
     "start_time": "2020-09-22T09:17:30.378949Z"
    }
   },
   "source": [
    "이 경우 다음을 얻게 된다. <br>\n",
    "then we obtain"
   ]
  },
  {
   "cell_type": "markdown",
   "metadata": {
    "ExecuteTime": {
     "end_time": "2020-09-22T09:18:49.812086Z",
     "start_time": "2020-09-22T09:18:49.805670Z"
    }
   },
   "source": [
    "$$ E_{COM} = \\frac{1}{M}E_{AV} $$"
   ]
  },
  {
   "cell_type": "markdown",
   "metadata": {
    "ExecuteTime": {
     "end_time": "2020-09-22T09:32:13.702223Z",
     "start_time": "2020-09-22T09:32:13.694443Z"
    }
   },
   "source": [
    "이 겉보기에 극적인 결과는, M개의 서로 다른 버전의 모델의 결과를 평균냄으로써 평균 오류를 1/M만큼으로 줄일 수 있다는 것이다. <br>\n",
    "This apparently dramatic result suggests that the average error of a model can be reduced by a factor of M simply by averaging M versions of the model."
   ]
  },
  {
   "cell_type": "markdown",
   "metadata": {
    "ExecuteTime": {
     "end_time": "2020-09-22T09:43:58.114252Z",
     "start_time": "2020-09-22T09:43:58.107675Z"
    }
   },
   "source": [
    "이 대단한 결과는 안타깝게도 각 개별 모델의 오류들이 서로 무상관하다는 가정에 기반하고 있다. <br>\n",
    "Unfortunately, it depends on the key assumption that the errors due to the individual models are uncorrelated."
   ]
  },
  {
   "cell_type": "markdown",
   "metadata": {},
   "source": [
    "실제 적용에서 오류들은 보통 높은 상관관계를 가진다. 따라서 전체 오류의 감소치는 일반적으로 그리 크지 않을 것이다. <br>\n",
    "In practice, the errors are typically highly correlated, and the reduction in overall error is generally small."
   ]
  },
  {
   "cell_type": "markdown",
   "metadata": {},
   "source": [
    "하지만 위원회 방식의 기대 오륫값이 각 구성모델의 기대 오류보다 크지 않을 것이라는 것은 증명할 수 있다. $E_{COM} \\le E_{AV}$<br>\n",
    "It can, however, be shown that the expected committee error will not exceed the expected error of the constituent models, so that $E_{COM} \\le E_{AV}$."
   ]
  },
  {
   "cell_type": "markdown",
   "metadata": {},
   "source": [
    "좀 더 분명한 개선을 얻기 위해서는, 위원회를 구성하는 좀 더 복잡한 테크닉인 부스팅을 사용해야 한다. <br>\n",
    "In order to achieve more significant improvements, we turn to a more sophisticated technique for building committees, known as boosting."
   ]
  }
 ],
 "metadata": {
  "kernelspec": {
   "display_name": "tf2",
   "language": "python",
   "name": "tf2"
  },
  "language_info": {
   "codemirror_mode": {
    "name": "ipython",
    "version": 3
   },
   "file_extension": ".py",
   "mimetype": "text/x-python",
   "name": "python",
   "nbconvert_exporter": "python",
   "pygments_lexer": "ipython3",
   "version": "3.7.3"
  },
  "toc": {
   "base_numbering": 1,
   "nav_menu": {},
   "number_sections": true,
   "sideBar": true,
   "skip_h1_title": false,
   "title_cell": "Table of Contents",
   "title_sidebar": "Contents",
   "toc_cell": false,
   "toc_position": {},
   "toc_section_display": true,
   "toc_window_display": false
  }
 },
 "nbformat": 4,
 "nbformat_minor": 4
}
